# AI-Powered Resume Screening System
# Author: Syed Muzammil Kamal

import pandas as pd
import re
from sklearn.feature_extraction.text import TfidfVectorizer
from sklearn.metrics.pairwise import cosine_similarity

# Load dataset
data = pd.read_csv("data/resume_data.csv")

# Extract resumes and job description
resumes = data['resume_text'].tolist()
job_desc = data['job_description'][0]

# Text cleaning function
def clean_text(text):
    text = text.lower()
    text = re.sub(r'[^a-zA-Z\s]', '', text)
    return text

cleaned_resumes = [clean_text(r) for r in resumes]
cleaned_jd = clean_text(job_desc)

# TF-IDF vectorization
vectorizer = TfidfVectorizer()
vectors = vectorizer.fit_transform(cleaned_resumes + [cleaned_jd])

# Cosine similarity
similarity = cosine_similarity(vectors[-1], vectors[:-1])

# Ranking
ranking = sorted(list(enumerate(similarity[0])), key=lambda x: x[1], reverse=True)

# Display results
print("🔍 Resume Ranking Based on Job Description:\n")
for i, score in ranking:
    print(f"Resume {i+1} Match Score: {score:.2f}")
    print(f"Text: {resumes[i]}")
    print("-"*50)
